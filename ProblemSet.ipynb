{
 "cells": [
  {
   "cell_type": "markdown",
   "id": "646e2290",
   "metadata": {},
   "source": [
    "<h3>Problem Set 01</h3>\n",
    "<li>BDAT1004- Data Programing </li> \n",
    "<li>Student Name: Aleena Saji </li>\n",
    "<li>Student No: 200475553 </li>"
   ]
  },
  {
   "cell_type": "markdown",
   "id": "0e4bc0e7",
   "metadata": {},
   "source": [
    "<h4>Question1</h4>\n",
    "    What data type is each of the following?\n",
    "    \n",
    "    \n",
    "    "
   ]
  },
  {
   "cell_type": "markdown",
   "id": "41b49221",
   "metadata": {},
   "source": [
    "| Sno.| Data   | Datatype  |\n",
    "| :---| :------| :---------|\n",
    "| 1   | 5      | Int       |\n",
    "| 2   | 5.0    | Float     |\n",
    "| 3   | 5>1    | Boolean   |\n",
    "| 4   | '5'    | Char      |\n",
    "| 5   | 5*2    | Int       |\n",
    "| 6   | '5'*2  | string  |\n",
    "| 7   | '5'+'2'| string     |\n",
    "| 8   | 5/2    | Int       |\n",
    "| 9   | 5%2    | Int       |\n",
    "| 10  | {5,2,1}| Array  |\n",
    "| 11  | 5==3   | Boolean   |\n",
    "| 12  | Pi     | Double    |"
   ]
  },
  {
   "cell_type": "markdown",
   "id": "ffbc1832",
   "metadata": {},
   "source": [
    "<h4>Question2</h4>\n",
    "Write (and evaluate) C# expressions that answer these questions:\n",
    "<li> How many letters are there in 'Supercalifragilisticexpialidocious'?</li>"
   ]
  },
  {
   "cell_type": "markdown",
   "id": "225e1573",
   "metadata": {},
   "source": [
    "Attempted two ways of attaining it. "
   ]
  },
  {
   "cell_type": "markdown",
   "id": "320b8fad",
   "metadata": {},
   "source": [
    "\n",
    "<center><img src=\"2acd.png\"></center>"
   ]
  },
  {
   "cell_type": "markdown",
   "id": "51fb63d5",
   "metadata": {},
   "source": [
    "<center><img src=\"2aop.png\"></center>"
   ]
  },
  {
   "cell_type": "markdown",
   "id": "67b22fd5",
   "metadata": {},
   "source": [
    "<li>\n",
    "    Does 'Supercalifragilisticexpialidocious' contain 'ice' as a substring? </li>"
   ]
  },
  {
   "cell_type": "markdown",
   "id": "1c1da2bb",
   "metadata": {},
   "source": [
    "Code:"
   ]
  },
  {
   "cell_type": "markdown",
   "id": "20e4f3d4",
   "metadata": {},
   "source": [
    "<center><img src=\"2bcd.png\"></center>"
   ]
  },
  {
   "cell_type": "markdown",
   "id": "8a77fed3",
   "metadata": {},
   "source": [
    "####Output:\n",
    "<center><img src=\"2bop.png\"></center>"
   ]
  },
  {
   "cell_type": "markdown",
   "id": "7674962f",
   "metadata": {},
   "source": [
    "<li>\n",
    "   Which of the following words is the longest:\n",
    "Supercalifragilisticexpialidocious, Honorificabilitudinitatibus, or\n",
    "Bababadalgharaghtakamminarronnkonn?</li>"
   ]
  },
  {
   "cell_type": "code",
   "execution_count": 35,
   "id": "17498013",
   "metadata": {},
   "outputs": [],
   "source": [
    "#Here, two strings have the same length."
   ]
  },
  {
   "cell_type": "markdown",
   "id": "95d4c944",
   "metadata": {},
   "source": [
    "####Code\n",
    "<center><img src=\"2ccd1.png\"></center>\n"
   ]
  },
  {
   "cell_type": "markdown",
   "id": "1f57c4a6",
   "metadata": {},
   "source": [
    "<center><img src=\"2ccd2.png\"></center>"
   ]
  },
  {
   "cell_type": "markdown",
   "id": "876726dc",
   "metadata": {},
   "source": [
    "####Output\n",
    "<center><img src=\"2cop.png\"></center>"
   ]
  },
  {
   "cell_type": "markdown",
   "id": "8397fd46",
   "metadata": {},
   "source": [
    "<li> Which composer comes first in the dictionary: 'Berlioz', 'Borodin', 'Brian',\n",
    "'Bartok', 'Bellini', 'Buxtehude', 'Bernstein'. Which one comes last?</li>"
   ]
  },
  {
   "cell_type": "code",
   "execution_count": 36,
   "id": "b354041b",
   "metadata": {},
   "outputs": [],
   "source": [
    "#Code"
   ]
  },
  {
   "cell_type": "markdown",
   "id": "c4a10640",
   "metadata": {},
   "source": [
    "<center><img src=\"2dcd.png\"></center>"
   ]
  },
  {
   "cell_type": "markdown",
   "id": "60bd5067",
   "metadata": {},
   "source": [
    "####Output\n",
    "<center><img src=\"2dop.png\"></center>"
   ]
  },
  {
   "cell_type": "markdown",
   "id": "dbc78660",
   "metadata": {},
   "source": [
    "<h4>Question3</h4>\n",
    "<font color='#004b87'>Implement function triangleArea(a,b,c) that takes as input the lengths of the 3\n",
    "sides of a triangle and returns the area of the triangle. By Heron's formula, the area\n",
    "of a triangle with side lengths a, b, and c is\n",
    "sqrt(s(s - a)(s -b)(s -c))\n",
    ", where\n",
    "s = (a+b+c)/2. "
   ]
  },
  {
   "cell_type": "markdown",
   "id": "644c1f2d",
   "metadata": {},
   "source": [
    "####Code\n",
    "<center><img src=\"3cd.png\"></center>"
   ]
  },
  {
   "cell_type": "markdown",
   "id": "fcbe8ed8",
   "metadata": {},
   "source": [
    "####Output\n",
    "<center><img src=\"3op.png\"></center>"
   ]
  },
  {
   "cell_type": "markdown",
   "id": "6552a487",
   "metadata": {},
   "source": [
    "<h4>Question4</h4>\n",
    "Write a program in C# Sharp to separate odd and even integers in separate arrays.\n"
   ]
  },
  {
   "cell_type": "markdown",
   "id": "37e16db0",
   "metadata": {},
   "source": [
    "####Code:\n",
    "<center><img src=\"4cd.png\"></center>"
   ]
  },
  {
   "cell_type": "markdown",
   "id": "23494945",
   "metadata": {},
   "source": [
    "####Output:\n",
    "<center><img src=\"4op.png\"></center>"
   ]
  },
  {
   "cell_type": "markdown",
   "id": "920873ad",
   "metadata": {},
   "source": [
    "<h4>Question5</h4>\n",
    "<li>Write a function inside(x,y,x1,y1,x2,y2) that returns True or False\n",
    "depending on whether the point (x,y) lies in the rectangle with lower left\n",
    "corner (x1,y1) and upper right corner (x2,y2).</li>\n"
   ]
  },
  {
   "cell_type": "markdown",
   "id": "5de95159",
   "metadata": {},
   "source": [
    "####Code part a):\n",
    "<center><img src=\"5cd1.png\"></center>"
   ]
  },
  {
   "cell_type": "markdown",
   "id": "8cd49a80",
   "metadata": {},
   "source": [
    "####Output:\n",
    "<center><img src=\"5op1.png\"></center>"
   ]
  },
  {
   "cell_type": "markdown",
   "id": "b5b158a0",
   "metadata": {},
   "source": [
    "<li>Use function inside() from part a. to write an expression that tests whether\n",
    "the point (1,1) lies in both of the following rectangles: one with lower left\n",
    "corner (0.3, 0.5) and upper right corner (1.1, 0.7) and the other with lower\n",
    "left corner (0.5, 0.2) and upper right corner (1.1, 2).</li>\n"
   ]
  },
  {
   "cell_type": "markdown",
   "id": "c893e254",
   "metadata": {},
   "source": [
    "####Code part 2):\n",
    "<center><img src=\"5cd2.png\"></center>"
   ]
  },
  {
   "cell_type": "markdown",
   "id": "3f49cbce",
   "metadata": {},
   "source": [
    "####Output:\n",
    "<center><img src=\"5op2.png\"></center>"
   ]
  },
  {
   "cell_type": "markdown",
   "id": "a5e67269",
   "metadata": {},
   "source": [
    "<h4>Question6</h4>\n",
    "You can turn a word into pig-Latin using the following two rules (simplified):\n",
    "<li> If the word starts with a consonant, move that letter to the end and append\n",
    "'ay'. For example, 'happy' becomes 'appyhay' and 'pencil' becomes 'encilpay'.\n",
    "<li> If the word starts with a vowel, simply append 'way' to the end of the word.\n",
    "For example, 'enter' becomes 'enterway' and 'other' becomes 'otherway' . For\n",
    "our purposes, there are 5 vowels: a, e, i, o, u (so we count y as a consonant).\n",
    "</li>Write a function pig() that takes a word (i.e., a string) as input and returns its pigLatin form. Your function should still work if the input word contains upper case\n",
    "characters. Your output should always be lower case however. "
   ]
  },
  {
   "cell_type": "code",
   "execution_count": 26,
   "id": "d712106c",
   "metadata": {},
   "outputs": [],
   "source": [
    "def pig (a):\n",
    "    if a[0] not in {'a','e','i','o','u'}:\n",
    "        a=a[1:]+a[0]+\"ay\"\n",
    "    else:\n",
    "        a=a[0:]+\"way\"\n",
    "    \n",
    "    return a"
   ]
  },
  {
   "cell_type": "code",
   "execution_count": 27,
   "id": "a771b5c0",
   "metadata": {},
   "outputs": [
    {
     "data": {
      "text/plain": [
       "'appyhay'"
      ]
     },
     "execution_count": 27,
     "metadata": {},
     "output_type": "execute_result"
    }
   ],
   "source": [
    "pig(\"happy\")"
   ]
  },
  {
   "cell_type": "code",
   "execution_count": 28,
   "id": "7fa19777",
   "metadata": {},
   "outputs": [
    {
     "data": {
      "text/plain": [
       "'enterway'"
      ]
     },
     "execution_count": 28,
     "metadata": {},
     "output_type": "execute_result"
    }
   ],
   "source": [
    "pig(\"enter\")"
   ]
  },
  {
   "cell_type": "markdown",
   "id": "8ed02951",
   "metadata": {},
   "source": [
    "<h4>Question7</h4>\n",
    "File bloodtype1.txt records blood-types of patients (A, B, AB, O or OO) at a clinic.\n",
    "Write a function bldcount() that reads the file with name name and reports (i.e.,\n",
    "prints) how many patients there are in each bloodtype."
   ]
  },
  {
   "cell_type": "code",
   "execution_count": 30,
   "id": "20ba99e8",
   "metadata": {},
   "outputs": [
    {
     "name": "stdout",
     "output_type": "stream",
     "text": [
      "Name the .txt file you want to read: bloodtype1.txt\n",
      " There are 15 patients of blood type A. \n",
      " There are one patients of blood type B.\n",
      " There are 13 patients of blood type AB. \n",
      " There are 15 patients of blood type O.\n",
      " There are None patients of blood type OO.\n"
     ]
    }
   ],
   "source": [
    "def towords(a):\n",
    "    numbers=['None','one','two','three','four','five','six','seven','eight','nine']\n",
    "    if a>=0 and a<10:\n",
    "        return numbers[a]\n",
    "    return a\n",
    "\n",
    "\n",
    "def bldcount(name):\n",
    "    name = open(name, \"r\")\n",
    "    data=name.read()\n",
    "    data_list=data.split()\n",
    "    name.close()\n",
    "    \n",
    "    #print(data_list)\n",
    "    \n",
    "    cnt=0\n",
    "    cnt_ab=0\n",
    "    cnt_a=0\n",
    "    cnt_b=0\n",
    "    cnt_o=0\n",
    "    \n",
    "    for entry in data_list:\n",
    "        if entry=='AB':\n",
    "            cnt_ab +=1\n",
    "        elif(entry=='A'):\n",
    "            cnt_a +=1\n",
    "        elif entry=='B':\n",
    "            cnt_b +=1\n",
    "        else:\n",
    "            cnt_o +=1\n",
    "\n",
    "    print(\" There are {} patients of blood type A. \\n There are {} patients of blood type B.\".format(towords(cnt_a),towords(cnt_b)))\n",
    "    print(\" There are {} patients of blood type AB. \\n There are {} patients of blood type O.\".format(towords(cnt_ab),towords(cnt_o)))\n",
    "    print(\" There are {} patients of blood type OO.\".format(towords(cnt)))  \n",
    "    \n",
    "name=input(\"Name the .txt file you want to read: \")\n",
    "bldcount(name)\n",
    "#The name of the file is: bloodtype1.txt"
   ]
  },
  {
   "cell_type": "markdown",
   "id": "597b3c0e",
   "metadata": {},
   "source": [
    "<h4>Question8</h4>\n",
    "Write a function curconv() that takes as input:\n",
    "<li> a currency represented using a string (e.g., 'JPY' for the Japanese Yen or\n",
    "'EUR' for the Euro)\n",
    "    <li> an amount </li>\n",
    "and then converts and returns the amount in US dollars."
   ]
  },
  {
   "cell_type": "code",
   "execution_count": 31,
   "id": "48e354fe",
   "metadata": {},
   "outputs": [
    {
     "name": "stdout",
     "output_type": "stream",
     "text": [
      "enter the country code: aud\n",
      "enter the amount: 100\n"
     ]
    },
    {
     "data": {
      "text/plain": [
       "103.45157"
      ]
     },
     "execution_count": 31,
     "metadata": {},
     "output_type": "execute_result"
    }
   ],
   "source": [
    "\n",
    "def curconv(c,p):\n",
    "    \n",
    "    money = open(\"currencies.txt\", \"r\")\n",
    "    lst=[]\n",
    "    price=[]\n",
    "    x=0\n",
    "    while x<17:\n",
    "        data=money.readline()\n",
    "        data_list=data.split()\n",
    "        lst=lst+ [data_list[0]]\n",
    "        price=price+[data_list[1]]\n",
    "        x=x+1\n",
    "   \n",
    "    if c in lst:\n",
    "        position=lst.index(c)\n",
    "    \n",
    "    return p*float(price[position])\n",
    "\n",
    "\n",
    "code=input(\"enter the country code: \")\n",
    "p=int(input(\"enter the amount: \"))\n",
    "\n",
    "curconv(code.upper(),p)"
   ]
  },
  {
   "cell_type": "markdown",
   "id": "257943f2",
   "metadata": {},
   "source": [
    "<h4>Question9</h4>\n",
    "Each of the following will cause an exception (an error). Identify what type of\n",
    "exception each will cause."
   ]
  },
  {
   "cell_type": "markdown",
   "id": "3d9eaaaf",
   "metadata": {},
   "source": [
    "|S.No. | Type                                                                                                         | Error              |\n",
    "| :----| :------------------------------------------------------------------------------------------------------------| :-----------------:|\n",
    "| 1    | Trying to add incompatible variables, as in adding 6 + ‘a’                                                   | TypeError (errorneous)|\n",
    "| 2    | Referring to the 12th item of a list that has only 10 items                                                  | Index out of Range (incorrect format) |\n",
    "| 3    | Using a value that is out of range for a function input, such as calling math.sqrt(-1.0)                     | ValueError (errorneous) |\n",
    "| 4    | Using an undeclared variable, such as print(x) when x has not been defined                                   | NameError (errorneous)|\n",
    "| 5    | Trying to open a file that does not exist, such as mistyping the file name or looking in the wrong directory.| FileNotFound (incorrect format)|"
   ]
  },
  {
   "cell_type": "markdown",
   "id": "4c61007c",
   "metadata": {},
   "source": [
    "<h4>Question10</h4>\n",
    "Encryption is the process of hiding the meaning of a text by substituting letters in the\n",
    "message with other letters, according to some system. If the process is successful, no\n",
    "one but the intended recipient can understand the encrypted message. Cryptanalysis\n",
    "refers to attempts to undo the encryption, even if some details of the encryption are\n",
    "unknown (for example, if an encrypted message has been intercepted). The first step\n",
    "of cryptanalysis is often to build up a table of letter frequencies in the encrypted text.\n",
    "Assume that the string letters is already defined as\n",
    "'abcdefghijklmnopqrstuvwxyz'. Write a function called frequencies()\n",
    "that takes a string as its only parameter, and returns a list of integers, showing the\n",
    "number of times each character appears in the text. Your function may ignore any\n",
    "characters that are not in letters."
   ]
  },
  {
   "cell_type": "code",
   "execution_count": 33,
   "id": "6d9efc32",
   "metadata": {},
   "outputs": [
    {
     "name": "stdout",
     "output_type": "stream",
     "text": [
      "Enter a string: Aleena Saji\n"
     ]
    },
    {
     "data": {
      "text/plain": [
       "[3, 0, 0, 0, 2, 0, 0, 0, 1, 1, 0, 1, 0, 1, 0, 0, 0, 0, 1, 0, 0, 0, 0, 0, 0, 0]"
      ]
     },
     "execution_count": 33,
     "metadata": {},
     "output_type": "execute_result"
    }
   ],
   "source": [
    "def frequencies(name):\n",
    "    abc=\"a b c d e f g h i j k l m n o p q r s t u v w x y z\" \n",
    "    abc=abc.split()\n",
    "    count=[0,0,0,0,0,0,0,0,0,0,0,0,0,0,0,0,0,0,0,0,0,0,0,0,0,0]\n",
    "    i=0\n",
    "    indi=0\n",
    "    name=name.lower()\n",
    "    while i<len(name):\n",
    "        for elt in name:\n",
    "            if elt in abc:\n",
    "                indi=abc.index(elt)\n",
    "                count[indi]+=1\n",
    "            i=i+1\n",
    "\n",
    "    return count\n",
    "\n",
    "name=input(\"Enter a string: \")\n",
    "frequencies(name)"
   ]
  },
  {
   "cell_type": "markdown",
   "id": "8c690078",
   "metadata": {},
   "source": [
    "Thank You"
   ]
  },
  {
   "cell_type": "code",
   "execution_count": 37,
   "id": "54bea9d3",
   "metadata": {},
   "outputs": [
    {
     "name": "stdout",
     "output_type": "stream",
     "text": [
      "Enter a string: The quick red fox got bored and went home.\n"
     ]
    },
    {
     "data": {
      "text/plain": [
       "[1, 1, 1, 3, 5, 1, 1, 2, 1, 0, 1, 0, 1, 2, 4, 0, 1, 2, 0, 3, 1, 0, 1, 1, 0, 0]"
      ]
     },
     "execution_count": 37,
     "metadata": {},
     "output_type": "execute_result"
    }
   ],
   "source": [
    "statement=input(\"Enter a string: \")\n",
    "frequencies(statement)"
   ]
  },
  {
   "cell_type": "code",
   "execution_count": 38,
   "id": "82dd2f89",
   "metadata": {},
   "outputs": [
    {
     "data": {
      "text/plain": [
       "[1, 0, 0, 0, 1, 0, 0, 0, 0, 0, 0, 1, 0, 0, 0, 2, 0, 0, 0, 0, 0, 0, 0, 0, 0, 0]"
      ]
     },
     "execution_count": 38,
     "metadata": {},
     "output_type": "execute_result"
    }
   ],
   "source": [
    "frequencies('apple')"
   ]
  },
  {
   "cell_type": "code",
   "execution_count": null,
   "id": "9280ea61",
   "metadata": {},
   "outputs": [],
   "source": []
  }
 ],
 "metadata": {
  "kernelspec": {
   "display_name": "Python 3",
   "language": "python",
   "name": "python3"
  },
  "language_info": {
   "codemirror_mode": {
    "name": "ipython",
    "version": 3
   },
   "file_extension": ".py",
   "mimetype": "text/x-python",
   "name": "python",
   "nbconvert_exporter": "python",
   "pygments_lexer": "ipython3",
   "version": "3.8.8"
  }
 },
 "nbformat": 4,
 "nbformat_minor": 5
}
